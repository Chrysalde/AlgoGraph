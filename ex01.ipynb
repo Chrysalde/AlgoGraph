{
 "cells": [
  {
   "cell_type": "code",
   "execution_count": 4,
   "metadata": {},
   "outputs": [
    {
     "name": "stdout",
     "output_type": "stream",
     "text": [
      "House position: -16.359690905478022\n",
      "House position: -15.219024130880443\n",
      "House position: -1.9077657756880835\n",
      "House position: -1.7253174745055901\n",
      "House position: 5.470473377401135\n",
      "House position: 10.417240064782467\n",
      "House position: 15.390552573958002\n",
      "House position: 18.363775224091906\n",
      "House position: 18.824768462976024\n",
      "House position: 23.43191974805081\n"
     ]
    }
   ],
   "source": [
    "import numpy as np\n",
    "\n",
    "def parcours(houses):\n",
    "    # Step 1: Sort the houses based on their distances from position 0\n",
    "    sorted_houses = sorted(houses, key=lambda x: abs(x))\n",
    "    \n",
    "    # Step 2: Return the sorted houses\n",
    "    return sorted_houses\n",
    "\n",
    "# Generate random initial positions of houses with a normal distribution centered at 0\n",
    "houses = np.random.normal(0, 1000, 1000).tolist()\n",
    "\n",
    "# Sort the houses using the parcours function\n",
    "sorted_houses = parcours(houses)\n",
    "\n",
    "# Print the first 10 sorted houses as a sample\n",
    "\n",
    "for sorted_house in sorted(sorted_houses[:10]):\n",
    "    print('House position:',sorted_house)"
   ]
  },
  {
   "cell_type": "code",
   "execution_count": 39,
   "metadata": {},
   "outputs": [
    {
     "name": "stdout",
     "output_type": "stream",
     "text": [
      "Number of Houses: 10, Execution Time: 0.000098 seconds\n",
      "Number of Houses: 100, Execution Time: 0.000024 seconds\n",
      "Number of Houses: 1000, Execution Time: 0.000265 seconds\n",
      "Number of Houses: 10000, Execution Time: 0.002991 seconds\n",
      "Number of Houses: 100000, Execution Time: 0.025069 seconds\n"
     ]
    }
   ],
   "source": [
    "import time\n",
    "\n",
    "# Measure the execution time for different values of 'n'\n",
    "for n in [10, 100, 1000, 10000, 100000]:\n",
    "    houses = np.random.normal(0, 1000, n).tolist()\n",
    "    start_time = time.time()\n",
    "    sorted_houses = parcours(houses)\n",
    "    execution_time = time.time() - start_time\n",
    "    print(f\"Number of Houses: {n}, Execution Time: {execution_time:.6f} seconds\")\n"
   ]
  },
  {
   "cell_type": "code",
   "execution_count": null,
   "metadata": {},
   "outputs": [],
   "source": []
  }
 ],
 "metadata": {
  "kernelspec": {
   "display_name": "base",
   "language": "python",
   "name": "python3"
  },
  "language_info": {
   "codemirror_mode": {
    "name": "ipython",
    "version": 3
   },
   "file_extension": ".py",
   "mimetype": "text/x-python",
   "name": "python",
   "nbconvert_exporter": "python",
   "pygments_lexer": "ipython3",
   "version": "3.9.13"
  },
  "orig_nbformat": 4
 },
 "nbformat": 4,
 "nbformat_minor": 2
}
