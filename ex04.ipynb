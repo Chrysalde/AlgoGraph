{
 "cells": [
  {
   "cell_type": "markdown",
   "metadata": {},
   "source": [
    "# Exercice 4\n",
    "\n",
    "## Génération de Graphs"
   ]
  },
  {
   "cell_type": "code",
   "execution_count": 3,
   "metadata": {},
   "outputs": [],
   "source": [
    "import networkx as nx\n",
    "import debug_printers as deb\n",
    "from os import path\n",
    "\n",
    "# Defines whether the debug printers actually do stuff.\n",
    "deb.gb_doPrintDebug = True\n",
    "\n",
    "def gen_graph(n: int = 10, exists_valid: bool = True) -> nx.Graph:\n",
    "    r\"\"\"Generates a Graph.\n",
    "    \n",
    "    Parameters:\n",
    "    -----------\n",
    "    n : int\n",
    "        The number of nodes within the graph.\n",
    "    exists_valid : bool\n",
    "        Indicates whether the graph HAS to contain a valid hamiltonian/eulerian path.\n",
    "\n",
    "    Returns:\n",
    "    --------\n",
    "    The newly created Graph.\n",
    "    \"\"\"\n",
    "    if exists_valid:\n",
    "        G = nx.tournament.random_tournament(n)\n",
    "    else:\n",
    "        G = nx.gnp_random_graph(n, 0.04)\n",
    "\n",
    "    deb.draw(G)\n",
    "    nx.write_edgelist(G, path=f\"V={nx.Graph(G).number_of_nodes()}_E={nx.Graph(G).number_of_edges()}\")\n",
    "\n",
    "    return G"
   ]
  },
  {
   "cell_type": "markdown",
   "metadata": {},
   "source": [
    "## Graph adjoint\n",
    "\n",
    "### Definition\n",
    "\n",
    "Étant donné un graphe G, son line graph L(G) est le graphe défini de la façon suivante :\n",
    "- Chaque sommet de L(G) représente une arête de G;\n",
    "- Deux sommets de L(G) sont adjacents si et seulement si les arêtes correspondantes partagent une extrémité commune dans G (on dit alors qu'elles sont adjacentes)."
   ]
  },
  {
   "cell_type": "code",
   "execution_count": 4,
   "metadata": {},
   "outputs": [],
   "source": [
    "import networkx as nx\n",
    "import debug_printers as deb\n",
    "\n",
    "def get_line_graph(G: nx.Graph | None = None) -> nx.Graph:\n",
    "    r\"\"\"Generates a Line Graph from the given Graph.\n",
    "\n",
    "    Parameters:\n",
    "    -----------\n",
    "    G : networkx.Graph | None\n",
    "        The Graph to use to generate the Line Graph. A random one will be used if absent.\n",
    "    \"\"\"\n",
    "\n",
    "    if G is None:\n",
    "        LG = nx.line_graph(gen_graph())\n",
    "    else:\n",
    "        LG = nx.line_graph(G)\n",
    "\n",
    "    deb.draw(LG, prefix=\"LG_\")\n",
    "    return LG"
   ]
  },
  {
   "cell_type": "markdown",
   "metadata": {},
   "source": [
    "## Cycle Hamiltonien\n",
    "\n",
    "### Définition\n",
    "\n",
    "Un cycle hamiltonien représente une séquence des sommets d'un graph donné dans laquelle chaque sommet est lié au suivant. Le terme _cycle_ indique que la séquence forme une boucle tel que le dernier sommet est lié au premier."
   ]
  },
  {
   "cell_type": "code",
   "execution_count": 5,
   "metadata": {},
   "outputs": [
    {
     "name": "stdout",
     "output_type": "stream",
     "text": [
      "[2, 0, 4, 3, 1]\n"
     ]
    }
   ],
   "source": [
    "import debug_printers as deb\n",
    "import networkx as nx\n",
    "\n",
    "graphs = []\n",
    "\n",
    "for n in [5, 10, 15, 20, 50]:\n",
    "    graphs.append(gen_graph(n))\n",
    "\n",
    "for G in graphs:\n",
    "    get_line_graph(G)\n",
    "    deb.write(nx.tournament.hamiltonian_path(G))"
   ]
  }
 ],
 "metadata": {
  "kernelspec": {
   "display_name": "Python 3",
   "language": "python",
   "name": "python3"
  },
  "language_info": {
   "codemirror_mode": {
    "name": "ipython",
    "version": 3
   },
   "file_extension": ".py",
   "mimetype": "text/x-python",
   "name": "python",
   "nbconvert_exporter": "python",
   "pygments_lexer": "ipython3",
   "version": "3.11.6"
  }
 },
 "nbformat": 4,
 "nbformat_minor": 2
}
